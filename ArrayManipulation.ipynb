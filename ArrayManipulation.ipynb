{
 "cells": [
  {
   "cell_type": "markdown",
   "metadata": {},
   "source": [
    "## Some Interview Questions from Glassdoor:\n",
    "\n",
    "1. string sorting, time/space complexity, whiteboard the client/API/server architecture, understanding of promises\n",
    "2. Code to look at housing trends.\n",
    "3. String and array manipulation questions from cracking the coding interview book. \n",
    "4. Build a react app that accepts two addresses and gives the closest real estate agencies to the two of the addresses.  \n",
    "5. What are some advantages and disadvantages between NoSQL and SQL databases? Which one would you use in this case to solve said problem, and why?\n",
    "6. Can you tell me all, or most commonly used, HTTP methods? Also, describe the standard usage for each method \n",
    "7. How to improve the loading speed of a web page?  \n",
    "8. Convert a nested list containing either nested lists or an integer to a single flat list  "
   ]
  },
  {
   "cell_type": "code",
   "execution_count": 1,
   "metadata": {},
   "outputs": [],
   "source": [
    "import math\n",
    "import numpy as np\n",
    "import pandas as pd\n",
    "import matplotlib.pyplot as plt\n",
    "%matplotlib inline"
   ]
  },
  {
   "cell_type": "markdown",
   "metadata": {},
   "source": [
    "## String Manipulation Question"
   ]
  },
  {
   "cell_type": "markdown",
   "metadata": {},
   "source": [
    "### 2D Array Max Hourglass Sum\n",
    "\n",
    "Description: https://www.hackerrank.com/challenges/2d-array/problem\n",
    "\n",
    "[Local Link](2d-array-English.pdf)"
   ]
  },
  {
   "cell_type": "code",
   "execution_count": 2,
   "metadata": {},
   "outputs": [],
   "source": [
    "def make_arr(n):\n",
    "    arr1 = (np.random.rand(n,n)*10).astype(int)\n",
    "    arr = []\n",
    "    for i in list(arr1):\n",
    "        arr.append(list(i))\n",
    "    return arr"
   ]
  },
  {
   "cell_type": "code",
   "execution_count": 3,
   "metadata": {},
   "outputs": [],
   "source": [
    "arr = make_arr(3)"
   ]
  },
  {
   "cell_type": "code",
   "execution_count": 4,
   "metadata": {},
   "outputs": [
    {
     "data": {
      "text/plain": [
       "[[2, 2, 2], [0, 3, 7], [3, 1, 0]]"
      ]
     },
     "execution_count": 4,
     "metadata": {},
     "output_type": "execute_result"
    }
   ],
   "source": [
    "arr"
   ]
  },
  {
   "cell_type": "code",
   "execution_count": 5,
   "metadata": {},
   "outputs": [],
   "source": [
    "# test case from hackerrank\n",
    "str_input = '1 1 1 0 0 0 0 1 0 0 0 0 1 1 1 0 0 0 0 0 2 4 4 0 0 0 0 2 0 0 0 0 1 2 4 0'"
   ]
  },
  {
   "cell_type": "code",
   "execution_count": 6,
   "metadata": {},
   "outputs": [],
   "source": [
    "arr_flat = str_input.split()"
   ]
  },
  {
   "cell_type": "code",
   "execution_count": 11,
   "metadata": {},
   "outputs": [],
   "source": [
    "m = 6\n",
    "n = 6\n",
    "arr = []\n",
    "for i in range(m):\n",
    "    arr.append([])\n",
    "    for j in range(n):\n",
    "        arr[i].append(int(arr_flat[n*i+j]))"
   ]
  },
  {
   "cell_type": "code",
   "execution_count": 12,
   "metadata": {},
   "outputs": [
    {
     "data": {
      "text/plain": [
       "[[1, 1, 1, 0, 0, 0],\n",
       " [0, 1, 0, 0, 0, 0],\n",
       " [1, 1, 1, 0, 0, 0],\n",
       " [0, 0, 2, 4, 4, 0],\n",
       " [0, 0, 0, 2, 0, 0],\n",
       " [0, 0, 1, 2, 4, 0]]"
      ]
     },
     "execution_count": 12,
     "metadata": {},
     "output_type": "execute_result"
    }
   ],
   "source": [
    "arr"
   ]
  },
  {
   "cell_type": "code",
   "execution_count": 8,
   "metadata": {},
   "outputs": [],
   "source": [
    "def hourglassSum(arr):\n",
    "    max_sum = -9*7\n",
    "    m = len(arr)\n",
    "    n = len(arr[0])\n",
    "    f = 3\n",
    "    for i in range(m-f+1):\n",
    "        for j in range(n-f+1):\n",
    "            tmp = 0\n",
    "            for k in range(i,i+f):\n",
    "                for l in range(j,j+f):\n",
    "                    if ((k-i) == 1 and (l-j) == 0) or ((k-i) == 1 and (l-j) == 2):\n",
    "                        continue\n",
    "                    else:\n",
    "                        tmp += arr[k][l]\n",
    "            if tmp > max_sum:\n",
    "                max_sum = tmp\n",
    "    return max_sum"
   ]
  },
  {
   "cell_type": "code",
   "execution_count": 13,
   "metadata": {},
   "outputs": [
    {
     "data": {
      "text/plain": [
       "19"
      ]
     },
     "execution_count": 13,
     "metadata": {},
     "output_type": "execute_result"
    }
   ],
   "source": [
    "hourglassSum(arr)"
   ]
  },
  {
   "cell_type": "code",
   "execution_count": 14,
   "metadata": {},
   "outputs": [
    {
     "data": {
      "text/plain": [
       "[[1, 1, 1, 0, 0, 0],\n",
       " [0, 1, 0, 0, 0, 0],\n",
       " [1, 1, 1, 0, 0, 0],\n",
       " [0, 0, 2, 4, 4, 0],\n",
       " [0, 0, 0, 2, 0, 0],\n",
       " [0, 0, 1, 2, 4, 0]]"
      ]
     },
     "execution_count": 14,
     "metadata": {},
     "output_type": "execute_result"
    }
   ],
   "source": [
    "arr"
   ]
  },
  {
   "cell_type": "code",
   "execution_count": 15,
   "metadata": {},
   "outputs": [
    {
     "data": {
      "text/plain": [
       "[0, 1, 0, 0, 0, 0]"
      ]
     },
     "execution_count": 15,
     "metadata": {},
     "output_type": "execute_result"
    }
   ],
   "source": [
    "arr[1:4][0]"
   ]
  },
  {
   "cell_type": "code",
   "execution_count": 16,
   "metadata": {},
   "outputs": [
    {
     "data": {
      "text/plain": [
       "1"
      ]
     },
     "execution_count": 16,
     "metadata": {},
     "output_type": "execute_result"
    }
   ],
   "source": [
    "sum(arr[0][2:5])"
   ]
  },
  {
   "cell_type": "code",
   "execution_count": 17,
   "metadata": {},
   "outputs": [
    {
     "data": {
      "text/plain": [
       "[[1, 1, 1, 0, 0, 0],\n",
       " [0, 1, 0, 0, 0, 0],\n",
       " [1, 1, 1, 0, 0, 0],\n",
       " [0, 0, 2, 4, 4, 0],\n",
       " [0, 0, 0, 2, 0, 0],\n",
       " [0, 0, 1, 2, 4, 0]]"
      ]
     },
     "execution_count": 17,
     "metadata": {},
     "output_type": "execute_result"
    }
   ],
   "source": [
    "arr"
   ]
  },
  {
   "cell_type": "code",
   "execution_count": 18,
   "metadata": {},
   "outputs": [],
   "source": [
    "a = [1,2]"
   ]
  },
  {
   "cell_type": "code",
   "execution_count": 19,
   "metadata": {},
   "outputs": [
    {
     "data": {
      "text/plain": [
       "'[1, 2]'"
      ]
     },
     "execution_count": 19,
     "metadata": {},
     "output_type": "execute_result"
    }
   ],
   "source": [
    "str(a)"
   ]
  },
  {
   "cell_type": "markdown",
   "metadata": {},
   "source": [
    "### Minimum Swaps\n",
    "\n",
    "Source: https://www.hackerrank.com/challenges/minimum-swaps-2/problem\n",
    "\n",
    "[Local Link](minimum-swaps-2-English.pdf)"
   ]
  },
  {
   "cell_type": "code",
   "execution_count": 20,
   "metadata": {},
   "outputs": [],
   "source": [
    "n = 7\n",
    "def create_random_seq(n):\n",
    "    x= []\n",
    "    m = range(1,n+1)\n",
    "    i = 0\n",
    "    while i < n:\n",
    "        x.append(np.random.choice(m))\n",
    "        m = list(set(m) - set(x))\n",
    "        i+=1\n",
    "    return x"
   ]
  },
  {
   "cell_type": "code",
   "execution_count": 21,
   "metadata": {},
   "outputs": [],
   "source": [
    "def minimumSwaps(arr):\n",
    "    n = len(arr)\n",
    "    swaps = 0\n",
    "    i = 0\n",
    "    while i < n:\n",
    "        if i+1 != arr[i]:\n",
    "            tmp = arr[arr[i]-1]\n",
    "            arr[arr[i]-1] = arr[i]\n",
    "            arr[i] = tmp\n",
    "            swaps+=1\n",
    "        else:\n",
    "            i+=1         \n",
    "    return arr, swaps"
   ]
  },
  {
   "cell_type": "code",
   "execution_count": 22,
   "metadata": {},
   "outputs": [],
   "source": [
    "arr = create_random_seq(n)"
   ]
  },
  {
   "cell_type": "code",
   "execution_count": 23,
   "metadata": {},
   "outputs": [
    {
     "data": {
      "text/plain": [
       "[1, 3, 4, 6, 5, 7, 2]"
      ]
     },
     "execution_count": 23,
     "metadata": {},
     "output_type": "execute_result"
    }
   ],
   "source": [
    "arr"
   ]
  },
  {
   "cell_type": "code",
   "execution_count": 24,
   "metadata": {},
   "outputs": [
    {
     "data": {
      "text/plain": [
       "([1, 2, 3, 4, 5, 6, 7], 4)"
      ]
     },
     "execution_count": 24,
     "metadata": {},
     "output_type": "execute_result"
    }
   ],
   "source": [
    "minimumSwaps(arr)"
   ]
  },
  {
   "cell_type": "code",
   "execution_count": 25,
   "metadata": {},
   "outputs": [],
   "source": [
    "arr = [7, 1, 3, 2, 4, 5, 6]"
   ]
  },
  {
   "cell_type": "markdown",
   "metadata": {},
   "source": [
    "### New Year Chaos\n",
    "\n",
    "Source: https://www.hackerrank.com/challenges/new-year-chaos/problem\n",
    "\n",
    "[Local Link](new-year-chaos-English.pdf)"
   ]
  },
  {
   "cell_type": "code",
   "execution_count": 30,
   "metadata": {},
   "outputs": [],
   "source": [
    "x = '2 1 5 3 4'\n",
    "q = list(map(int, x.strip().split()))"
   ]
  },
  {
   "cell_type": "code",
   "execution_count": 31,
   "metadata": {},
   "outputs": [],
   "source": [
    "def minimumBribes(q):\n",
    "    bribes = 0\n",
    "    n = len(q)\n",
    "    for idx, person in enumerate(q):\n",
    "        if idx+1 < person:\n",
    "            x = person - (idx+1)\n",
    "            if x > 2:\n",
    "                print('Too chaotic')\n",
    "                return\n",
    "    swaps = 1\n",
    "    while swaps > 0:\n",
    "        swaps = 0\n",
    "        for i in range(n-1):\n",
    "            if q[i] > q[i+1]:\n",
    "                q[i], q[i+1] = q[i+1], q[i]\n",
    "                swaps += 1\n",
    "                bribes +=1\n",
    "    print(bribes)"
   ]
  },
  {
   "cell_type": "code",
   "execution_count": 32,
   "metadata": {},
   "outputs": [
    {
     "data": {
      "text/plain": [
       "[2, 1, 5, 3, 4]"
      ]
     },
     "execution_count": 32,
     "metadata": {},
     "output_type": "execute_result"
    }
   ],
   "source": [
    "q"
   ]
  },
  {
   "cell_type": "code",
   "execution_count": 33,
   "metadata": {},
   "outputs": [
    {
     "name": "stdout",
     "output_type": "stream",
     "text": [
      "3\n"
     ]
    }
   ],
   "source": [
    "minimumBribes(q)"
   ]
  },
  {
   "cell_type": "markdown",
   "metadata": {},
   "source": [
    "### Left Rotation\n",
    "\n",
    "Source: https://www.hackerrank.com/challenges/ctci-array-left-rotation/problem\n",
    "\n",
    "[Local Link](ctci-array-left-rotation-English.pdf)"
   ]
  },
  {
   "cell_type": "code",
   "execution_count": 34,
   "metadata": {},
   "outputs": [],
   "source": [
    "def rotLeft(a, d):\n",
    "    n = len(a)\n",
    "    return a[d%n:] + a[:d%n]"
   ]
  },
  {
   "cell_type": "code",
   "execution_count": 1,
   "metadata": {},
   "outputs": [],
   "source": [
    "def is_palindrome(n):\n",
    "    return str(n) == str(n)[-1::-1]"
   ]
  },
  {
   "cell_type": "code",
   "execution_count": 2,
   "metadata": {},
   "outputs": [
    {
     "data": {
      "text/plain": [
       "True"
      ]
     },
     "execution_count": 2,
     "metadata": {},
     "output_type": "execute_result"
    }
   ],
   "source": [
    "is_palindrome(1001)"
   ]
  },
  {
   "cell_type": "code",
   "execution_count": 4,
   "metadata": {},
   "outputs": [],
   "source": [
    "count = 0\n",
    "for i in range(1000,10000):\n",
    "    if i%11 == 0 and not is_palindrome(i):\n",
    "        count +=1"
   ]
  },
  {
   "cell_type": "code",
   "execution_count": 5,
   "metadata": {},
   "outputs": [
    {
     "data": {
      "text/plain": [
       "729"
      ]
     },
     "execution_count": 5,
     "metadata": {},
     "output_type": "execute_result"
    }
   ],
   "source": [
    "count"
   ]
  },
  {
   "cell_type": "code",
   "execution_count": 28,
   "metadata": {},
   "outputs": [],
   "source": [
    "a = \"races\""
   ]
  },
  {
   "cell_type": "code",
   "execution_count": 29,
   "metadata": {},
   "outputs": [],
   "source": [
    "a_dict = convert_to_dict(a)"
   ]
  },
  {
   "cell_type": "code",
   "execution_count": 30,
   "metadata": {},
   "outputs": [
    {
     "data": {
      "text/plain": [
       "{'a': 1, 'c': 1, 'e': 1, 'r': 1, 's': 1}"
      ]
     },
     "execution_count": 30,
     "metadata": {},
     "output_type": "execute_result"
    }
   ],
   "source": [
    "a_dict"
   ]
  },
  {
   "cell_type": "code",
   "execution_count": 26,
   "metadata": {},
   "outputs": [
    {
     "data": {
      "text/plain": [
       "['a', 'c', 'e', 'r', 's']"
      ]
     },
     "execution_count": 26,
     "metadata": {},
     "output_type": "execute_result"
    }
   ],
   "source": [
    "sorted(a)"
   ]
  },
  {
   "cell_type": "code",
   "execution_count": 31,
   "metadata": {},
   "outputs": [],
   "source": [
    "a2 = \"cares\""
   ]
  },
  {
   "cell_type": "code",
   "execution_count": 32,
   "metadata": {},
   "outputs": [],
   "source": [
    "a_dict = convert_to_dict(a)"
   ]
  },
  {
   "cell_type": "code",
   "execution_count": 33,
   "metadata": {},
   "outputs": [],
   "source": [
    "a_dict2 = convert_to_dict(a2)"
   ]
  },
  {
   "cell_type": "code",
   "execution_count": 34,
   "metadata": {},
   "outputs": [
    {
     "data": {
      "text/plain": [
       "{'a': 1, 'c': 1, 'e': 1, 'r': 1, 's': 1}"
      ]
     },
     "execution_count": 34,
     "metadata": {},
     "output_type": "execute_result"
    }
   ],
   "source": [
    "a_dict"
   ]
  },
  {
   "cell_type": "code",
   "execution_count": 35,
   "metadata": {},
   "outputs": [
    {
     "data": {
      "text/plain": [
       "{'a': 1, 'c': 1, 'e': 1, 'r': 1, 's': 1}"
      ]
     },
     "execution_count": 35,
     "metadata": {},
     "output_type": "execute_result"
    }
   ],
   "source": [
    "a_dict2"
   ]
  },
  {
   "cell_type": "code",
   "execution_count": 36,
   "metadata": {},
   "outputs": [
    {
     "data": {
      "text/plain": [
       "True"
      ]
     },
     "execution_count": 36,
     "metadata": {},
     "output_type": "execute_result"
    }
   ],
   "source": [
    "a_dict==a_dict2"
   ]
  },
  {
   "cell_type": "code",
   "execution_count": 75,
   "metadata": {},
   "outputs": [],
   "source": [
    "def number_of_pairs(a, k):\n",
    "    pairs = []\n",
    "    for idx, val in enumerate(a):\n",
    "        target = k - val\n",
    "        if target in a[idx+1:]:\n",
    "            if (val, target) in pairs:\n",
    "                continue\n",
    "            else:\n",
    "                pairs.append((val, target))\n",
    "                pairs.append((target, val))\n",
    "    return len(pairs)//2"
   ]
  },
  {
   "cell_type": "code",
   "execution_count": 136,
   "metadata": {},
   "outputs": [],
   "source": [
    "a = [1, 2, 3, 6, 7, 8, 9, 1, 2]\n",
    "k = 10"
   ]
  },
  {
   "cell_type": "code",
   "execution_count": 77,
   "metadata": {},
   "outputs": [
    {
     "data": {
      "text/plain": [
       "3"
      ]
     },
     "execution_count": 77,
     "metadata": {},
     "output_type": "execute_result"
    }
   ],
   "source": [
    "number_of_pairs(a, k)"
   ]
  },
  {
   "cell_type": "code",
   "execution_count": 96,
   "metadata": {},
   "outputs": [
    {
     "data": {
      "text/plain": [
       "'Joe races to spin tops on top of pots. No one cares, but his dog nips his hand'"
      ]
     },
     "execution_count": 96,
     "metadata": {},
     "output_type": "execute_result"
    }
   ],
   "source": [
    "s"
   ]
  },
  {
   "cell_type": "code",
   "execution_count": 100,
   "metadata": {},
   "outputs": [],
   "source": [
    "import string"
   ]
  },
  {
   "cell_type": "code",
   "execution_count": 148,
   "metadata": {},
   "outputs": [],
   "source": [
    "def clean_str(s):\n",
    "    return list(set(s.translate(str.maketrans('', '', string.punctuation)).lower().strip().split()))"
   ]
  },
  {
   "cell_type": "code",
   "execution_count": 149,
   "metadata": {},
   "outputs": [],
   "source": [
    "s = \"Joe races to spin tops on top of pots. No one cares, but his dog nips his hand\""
   ]
  },
  {
   "cell_type": "code",
   "execution_count": 150,
   "metadata": {},
   "outputs": [],
   "source": [
    "s_lst = clean_str(s)"
   ]
  },
  {
   "cell_type": "code",
   "execution_count": 109,
   "metadata": {},
   "outputs": [],
   "source": [
    "def convert_to_dict(a):\n",
    "    a_dict = {}\n",
    "    a = sorted(a)\n",
    "    for i in a:\n",
    "        if i in a_dict:\n",
    "            a_dict[i] += 1\n",
    "        else:\n",
    "            a_dict[i] = 1\n",
    "    return a_dict"
   ]
  },
  {
   "cell_type": "code",
   "execution_count": 152,
   "metadata": {},
   "outputs": [
    {
     "data": {
      "text/plain": [
       "['dog',\n",
       " 'hand',\n",
       " 'spin',\n",
       " 'his',\n",
       " 'no',\n",
       " 'races',\n",
       " 'to',\n",
       " 'of',\n",
       " 'on',\n",
       " 'tops',\n",
       " 'joe',\n",
       " 'one',\n",
       " 'cares',\n",
       " 'but',\n",
       " 'nips',\n",
       " 'top',\n",
       " 'pots']"
      ]
     },
     "execution_count": 152,
     "metadata": {},
     "output_type": "execute_result"
    }
   ],
   "source": [
    "s_lst"
   ]
  },
  {
   "cell_type": "code",
   "execution_count": 155,
   "metadata": {},
   "outputs": [],
   "source": [
    "def find_anagrams(s):\n",
    "    s_lst = clean_str(s)\n",
    "    result = []\n",
    "    for i, a in enumerate(s_lst):\n",
    "        for j, b in enumerate(s_lst[i+1:]):\n",
    "            if check_anagram(a,b):\n",
    "                result.append({a,b})\n",
    "    return result"
   ]
  },
  {
   "cell_type": "code",
   "execution_count": 156,
   "metadata": {},
   "outputs": [
    {
     "data": {
      "text/plain": [
       "[{'nips', 'spin'}, {'no', 'on'}, {'cares', 'races'}, {'pots', 'tops'}]"
      ]
     },
     "execution_count": 156,
     "metadata": {},
     "output_type": "execute_result"
    }
   ],
   "source": [
    "find_anagrams(s)"
   ]
  },
  {
   "cell_type": "code",
   "execution_count": 122,
   "metadata": {},
   "outputs": [
    {
     "data": {
      "text/plain": [
       "{'but',\n",
       " 'cares',\n",
       " 'dog',\n",
       " 'hand',\n",
       " 'his',\n",
       " 'joe',\n",
       " 'nips',\n",
       " 'no',\n",
       " 'of',\n",
       " 'on',\n",
       " 'one',\n",
       " 'pots',\n",
       " 'races',\n",
       " 'spin',\n",
       " 'to',\n",
       " 'top',\n",
       " 'tops'}"
      ]
     },
     "execution_count": 122,
     "metadata": {},
     "output_type": "execute_result"
    }
   ],
   "source": [
    "s_lst"
   ]
  },
  {
   "cell_type": "code",
   "execution_count": 124,
   "metadata": {},
   "outputs": [],
   "source": [
    "def check_anagram(a,b):\n",
    "    if len(a) != len(b):\n",
    "        return False\n",
    "    else:\n",
    "        return convert_to_dict(a) == convert_to_dict(b)"
   ]
  },
  {
   "cell_type": "code",
   "execution_count": 127,
   "metadata": {},
   "outputs": [],
   "source": [
    "a = \"races\"\n",
    "b = \"care\""
   ]
  },
  {
   "cell_type": "code",
   "execution_count": 128,
   "metadata": {},
   "outputs": [
    {
     "data": {
      "text/plain": [
       "False"
      ]
     },
     "execution_count": 128,
     "metadata": {},
     "output_type": "execute_result"
    }
   ],
   "source": [
    "check_anagram(a,b)"
   ]
  },
  {
   "cell_type": "code",
   "execution_count": 133,
   "metadata": {},
   "outputs": [
    {
     "name": "stdout",
     "output_type": "stream",
     "text": [
      "0 dog\n",
      "1 hand\n",
      "2 spin\n",
      "3 his\n",
      "4 no\n",
      "5 races\n",
      "6 to\n",
      "7 of\n",
      "8 on\n",
      "9 tops\n",
      "10 joe\n",
      "11 one\n",
      "12 cares\n",
      "13 but\n",
      "14 nips\n",
      "15 top\n",
      "16 pots\n"
     ]
    }
   ],
   "source": [
    "for i, j in enumerate(s_lst):\n",
    "    print(i, j)"
   ]
  },
  {
   "cell_type": "code",
   "execution_count": 140,
   "metadata": {},
   "outputs": [],
   "source": [
    "def num_pairs(a,k):\n",
    "    result = 0\n",
    "    nums = set(a)\n",
    "    for i in a:\n",
    "        if (k - i) in nums:\n",
    "            result+=1\n",
    "    return result"
   ]
  },
  {
   "cell_type": "code",
   "execution_count": 141,
   "metadata": {},
   "outputs": [
    {
     "data": {
      "text/plain": [
       "8"
      ]
     },
     "execution_count": 141,
     "metadata": {},
     "output_type": "execute_result"
    }
   ],
   "source": [
    "num_pairs(a,k)"
   ]
  },
  {
   "cell_type": "code",
   "execution_count": 172,
   "metadata": {},
   "outputs": [],
   "source": [
    "def find_anagrams(s):\n",
    "    s_lst = clean_str(s)\n",
    "    a_dicts = []\n",
    "    for a in s_lst:\n",
    "        a_dicts.append(convert_to_dict(a))\n",
    "    return a_dicts"
   ]
  },
  {
   "cell_type": "code",
   "execution_count": 173,
   "metadata": {},
   "outputs": [
    {
     "data": {
      "text/plain": [
       "[{'d': 1, 'g': 1, 'o': 1},\n",
       " {'a': 1, 'd': 1, 'h': 1, 'n': 1},\n",
       " {'i': 1, 'n': 1, 'p': 1, 's': 1},\n",
       " {'h': 1, 'i': 1, 's': 1},\n",
       " {'n': 1, 'o': 1},\n",
       " {'a': 1, 'c': 1, 'e': 1, 'r': 1, 's': 1},\n",
       " {'o': 1, 't': 1},\n",
       " {'f': 1, 'o': 1},\n",
       " {'n': 1, 'o': 1},\n",
       " {'o': 1, 'p': 1, 's': 1, 't': 1},\n",
       " {'e': 1, 'j': 1, 'o': 1},\n",
       " {'e': 1, 'n': 1, 'o': 1},\n",
       " {'a': 1, 'c': 1, 'e': 1, 'r': 1, 's': 1},\n",
       " {'b': 1, 't': 1, 'u': 1},\n",
       " {'i': 1, 'n': 1, 'p': 1, 's': 1},\n",
       " {'o': 1, 'p': 1, 't': 1},\n",
       " {'o': 1, 'p': 1, 's': 1, 't': 1}]"
      ]
     },
     "execution_count": 173,
     "metadata": {},
     "output_type": "execute_result"
    }
   ],
   "source": [
    "find_anagrams(s)"
   ]
  },
  {
   "cell_type": "code",
   "execution_count": null,
   "metadata": {},
   "outputs": [],
   "source": []
  }
 ],
 "metadata": {
  "kernelspec": {
   "display_name": "Python 3",
   "language": "python",
   "name": "python3"
  },
  "language_info": {
   "codemirror_mode": {
    "name": "ipython",
    "version": 3
   },
   "file_extension": ".py",
   "mimetype": "text/x-python",
   "name": "python",
   "nbconvert_exporter": "python",
   "pygments_lexer": "ipython3",
   "version": "3.6.5"
  }
 },
 "nbformat": 4,
 "nbformat_minor": 2
}
